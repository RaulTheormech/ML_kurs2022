{
  "nbformat": 4,
  "nbformat_minor": 0,
  "metadata": {
    "colab": {
      "provenance": []
    },
    "kernelspec": {
      "name": "python3",
      "display_name": "Python 3"
    },
    "language_info": {
      "name": "python"
    }
  },
  "cells": [
    {
      "cell_type": "code",
      "execution_count": 2,
      "metadata": {
        "colab": {
          "base_uri": "https://localhost:8080/"
        },
        "id": "ywZnijGn1FdH",
        "outputId": "901ce9d4-e1e5-42aa-ded3-33cde2b14cbc"
      },
      "outputs": [
        {
          "output_type": "stream",
          "name": "stdout",
          "text": [
            "Looking in indexes: https://pypi.org/simple, https://us-python.pkg.dev/colab-wheels/public/simple/\n",
            "Requirement already satisfied: catboost in /usr/local/lib/python3.8/dist-packages (1.1.1)\n",
            "Requirement already satisfied: matplotlib in /usr/local/lib/python3.8/dist-packages (from catboost) (3.2.2)\n",
            "Requirement already satisfied: pandas>=0.24.0 in /usr/local/lib/python3.8/dist-packages (from catboost) (1.3.5)\n",
            "Requirement already satisfied: numpy>=1.16.0 in /usr/local/lib/python3.8/dist-packages (from catboost) (1.21.6)\n",
            "Requirement already satisfied: scipy in /usr/local/lib/python3.8/dist-packages (from catboost) (1.7.3)\n",
            "Requirement already satisfied: six in /usr/local/lib/python3.8/dist-packages (from catboost) (1.15.0)\n",
            "Requirement already satisfied: graphviz in /usr/local/lib/python3.8/dist-packages (from catboost) (0.10.1)\n",
            "Requirement already satisfied: plotly in /usr/local/lib/python3.8/dist-packages (from catboost) (5.5.0)\n",
            "Requirement already satisfied: python-dateutil>=2.7.3 in /usr/local/lib/python3.8/dist-packages (from pandas>=0.24.0->catboost) (2.8.2)\n",
            "Requirement already satisfied: pytz>=2017.3 in /usr/local/lib/python3.8/dist-packages (from pandas>=0.24.0->catboost) (2022.6)\n",
            "Requirement already satisfied: cycler>=0.10 in /usr/local/lib/python3.8/dist-packages (from matplotlib->catboost) (0.11.0)\n",
            "Requirement already satisfied: pyparsing!=2.0.4,!=2.1.2,!=2.1.6,>=2.0.1 in /usr/local/lib/python3.8/dist-packages (from matplotlib->catboost) (3.0.9)\n",
            "Requirement already satisfied: kiwisolver>=1.0.1 in /usr/local/lib/python3.8/dist-packages (from matplotlib->catboost) (1.4.4)\n",
            "Requirement already satisfied: tenacity>=6.2.0 in /usr/local/lib/python3.8/dist-packages (from plotly->catboost) (8.1.0)\n"
          ]
        }
      ],
      "source": [
        "!pip install catboost\n",
        "\n",
        "import pandas as pd\n",
        "import numpy as np\n",
        "import sklearn\n",
        "from sklearn import preprocessing\n",
        "from sklearn import metrics\n",
        "import matplotlib.pyplot as plt\n",
        "from catboost import CatBoostRegressor, CatBoostClassifier"
      ]
    },
    {
      "cell_type": "code",
      "source": [
        "#Импорт файлов\n",
        "from google.colab import drive\n",
        "import pandas as pd\n",
        "\n",
        "drive.mount('/content/drive')\n",
        "\n",
        "test = pd.read_csv(\"/content/drive/MyDrive/sample_solution.csv\")\n",
        "train = pd.read_csv(\"/content/drive/MyDrive/train.csv\")"
      ],
      "metadata": {
        "colab": {
          "base_uri": "https://localhost:8080/"
        },
        "id": "0VdHFNRY1KDP",
        "outputId": "09a277a6-9fb7-457f-9478-e14a8bd2e3c6"
      },
      "execution_count": 3,
      "outputs": [
        {
          "output_type": "stream",
          "name": "stdout",
          "text": [
            "Drive already mounted at /content/drive; to attempt to forcibly remount, call drive.mount(\"/content/drive\", force_remount=True).\n"
          ]
        }
      ]
    },
    {
      "cell_type": "code",
      "source": [
        "targets = [\"time_to_under\",\"label\"]\n",
        "namelist = list(train.columns.values)\n",
        "\n",
        "X_train = train\n",
        "X_train = X_train.drop(targets[0], axis = 1)\n",
        "X_train = X_train.drop(targets[1], axis = 1) #удаляем timetounder and label from X\n",
        "\n",
        "Y1_train = train[targets[0]].copy() #тут time to under\n",
        "Y2_train = train[targets[1]].copy() #тут label\n",
        "\n"
      ],
      "metadata": {
        "id": "JgNfqq_x1PE5"
      },
      "execution_count": 23,
      "outputs": []
    },
    {
      "cell_type": "code",
      "source": [
        "test.isnull().sum()\n",
        "\n"
      ],
      "metadata": {
        "colab": {
          "base_uri": "https://localhost:8080/"
        },
        "id": "_SC2hDYc2ins",
        "outputId": "5a1ce83a-11f2-457a-d404-61dbd3d751e5"
      },
      "execution_count": 5,
      "outputs": [
        {
          "output_type": "execute_result",
          "data": {
            "text/plain": [
              "id               0\n",
              "time_to_under    0\n",
              "label            0\n",
              "dtype: int64"
            ]
          },
          "metadata": {},
          "execution_count": 5
        }
      ]
    },
    {
      "cell_type": "code",
      "source": [
        "le_ticket_type = preprocessing.LabelEncoder()\n",
        "le_ticket_id = preprocessing.LabelEncoder()\n",
        "\n",
        "le_ticket_type.fit(X_train[\"ticket_type_nm\"])\n",
        "le_ticket_id.fit(X_train[\"ticket_id\"])\n",
        "\n",
        "def X_preprocessing(X):\n",
        "    def cut_day(string):\n",
        "        string = string[8:10]\n",
        "        return string\n",
        "\n",
        "    def cut_hour(string):\n",
        "        string = string[11:13]\n",
        "        return string\n",
        "\n",
        "    def cut_minute(string):\n",
        "        string = string[14:16]\n",
        "        return string\n",
        "    \n",
        "    X = X.drop(\"entrance_nm\", axis = 1) #Т.к. id и имя это один и тот же признак\n",
        "    X = X.drop(\"station_nm\", axis = 1)\n",
        "    X = X.drop(\"line_nm\", axis = 1)\n",
        "    \n",
        "    X[\"ticket_type_nm\"] = le_ticket_type.transform(X_train[\"ticket_type_nm\"])\n",
        "    X[\"ticket_id\"] = le_ticket_id.transform(X_train[\"ticket_id\"])\n",
        "    \n",
        "#     Заменяем столбец времени на столбцы час и минута\n",
        "    time_column = X[\"pass_dttm\"].copy()\n",
        "    hour = time_column.apply(cut_hour)\n",
        "    day = time_column.apply(cut_day)\n",
        "    minute = time_column.apply(cut_minute)\n",
        "    \n",
        "    hour = pd.to_numeric(hour, errors='coerce')\n",
        "    day = pd.to_numeric(day, errors='coerce')\n",
        "    minute = pd.to_numeric(minute, errors='coerce')\n",
        "    \n",
        "    \n",
        "    X = X.drop(\"pass_dttm\", axis = 1)\n",
        "    X[\"day\"] = day\n",
        "    X[\"hour\"] = hour\n",
        "    X[\"minute\"] = minute\n",
        "    return X\n",
        "\n",
        "X_preprocessed = X_preprocessing(X_train)\n",
        "X_preprocessed.head()"
      ],
      "metadata": {
        "colab": {
          "base_uri": "https://localhost:8080/",
          "height": 206
        },
        "id": "9OO7u_M14UFl",
        "outputId": "2e93626f-64df-40eb-8b52-acd116feb103"
      },
      "execution_count": 24,
      "outputs": [
        {
          "output_type": "execute_result",
          "data": {
            "text/plain": [
              "   id  ticket_id  ticket_type_nm  entrance_id  station_id  line_id  day  hour  \\\n",
              "0   1      84909              40         2402       11007       11   12     5   \n",
              "1   2      24211              53          110        2006        2   12     5   \n",
              "2   3     276072              26          110        2006        2   12     5   \n",
              "3   4       1788               3          110        2006        2   12     5   \n",
              "4   5     196752              38          110        2006        2   12     5   \n",
              "\n",
              "   minute  \n",
              "0       0  \n",
              "1       0  \n",
              "2       0  \n",
              "3       1  \n",
              "4       2  "
            ],
            "text/html": [
              "\n",
              "  <div id=\"df-74323b41-9e5e-4218-b924-145b2e3c6b5c\">\n",
              "    <div class=\"colab-df-container\">\n",
              "      <div>\n",
              "<style scoped>\n",
              "    .dataframe tbody tr th:only-of-type {\n",
              "        vertical-align: middle;\n",
              "    }\n",
              "\n",
              "    .dataframe tbody tr th {\n",
              "        vertical-align: top;\n",
              "    }\n",
              "\n",
              "    .dataframe thead th {\n",
              "        text-align: right;\n",
              "    }\n",
              "</style>\n",
              "<table border=\"1\" class=\"dataframe\">\n",
              "  <thead>\n",
              "    <tr style=\"text-align: right;\">\n",
              "      <th></th>\n",
              "      <th>id</th>\n",
              "      <th>ticket_id</th>\n",
              "      <th>ticket_type_nm</th>\n",
              "      <th>entrance_id</th>\n",
              "      <th>station_id</th>\n",
              "      <th>line_id</th>\n",
              "      <th>day</th>\n",
              "      <th>hour</th>\n",
              "      <th>minute</th>\n",
              "    </tr>\n",
              "  </thead>\n",
              "  <tbody>\n",
              "    <tr>\n",
              "      <th>0</th>\n",
              "      <td>1</td>\n",
              "      <td>84909</td>\n",
              "      <td>40</td>\n",
              "      <td>2402</td>\n",
              "      <td>11007</td>\n",
              "      <td>11</td>\n",
              "      <td>12</td>\n",
              "      <td>5</td>\n",
              "      <td>0</td>\n",
              "    </tr>\n",
              "    <tr>\n",
              "      <th>1</th>\n",
              "      <td>2</td>\n",
              "      <td>24211</td>\n",
              "      <td>53</td>\n",
              "      <td>110</td>\n",
              "      <td>2006</td>\n",
              "      <td>2</td>\n",
              "      <td>12</td>\n",
              "      <td>5</td>\n",
              "      <td>0</td>\n",
              "    </tr>\n",
              "    <tr>\n",
              "      <th>2</th>\n",
              "      <td>3</td>\n",
              "      <td>276072</td>\n",
              "      <td>26</td>\n",
              "      <td>110</td>\n",
              "      <td>2006</td>\n",
              "      <td>2</td>\n",
              "      <td>12</td>\n",
              "      <td>5</td>\n",
              "      <td>0</td>\n",
              "    </tr>\n",
              "    <tr>\n",
              "      <th>3</th>\n",
              "      <td>4</td>\n",
              "      <td>1788</td>\n",
              "      <td>3</td>\n",
              "      <td>110</td>\n",
              "      <td>2006</td>\n",
              "      <td>2</td>\n",
              "      <td>12</td>\n",
              "      <td>5</td>\n",
              "      <td>1</td>\n",
              "    </tr>\n",
              "    <tr>\n",
              "      <th>4</th>\n",
              "      <td>5</td>\n",
              "      <td>196752</td>\n",
              "      <td>38</td>\n",
              "      <td>110</td>\n",
              "      <td>2006</td>\n",
              "      <td>2</td>\n",
              "      <td>12</td>\n",
              "      <td>5</td>\n",
              "      <td>2</td>\n",
              "    </tr>\n",
              "  </tbody>\n",
              "</table>\n",
              "</div>\n",
              "      <button class=\"colab-df-convert\" onclick=\"convertToInteractive('df-74323b41-9e5e-4218-b924-145b2e3c6b5c')\"\n",
              "              title=\"Convert this dataframe to an interactive table.\"\n",
              "              style=\"display:none;\">\n",
              "        \n",
              "  <svg xmlns=\"http://www.w3.org/2000/svg\" height=\"24px\"viewBox=\"0 0 24 24\"\n",
              "       width=\"24px\">\n",
              "    <path d=\"M0 0h24v24H0V0z\" fill=\"none\"/>\n",
              "    <path d=\"M18.56 5.44l.94 2.06.94-2.06 2.06-.94-2.06-.94-.94-2.06-.94 2.06-2.06.94zm-11 1L8.5 8.5l.94-2.06 2.06-.94-2.06-.94L8.5 2.5l-.94 2.06-2.06.94zm10 10l.94 2.06.94-2.06 2.06-.94-2.06-.94-.94-2.06-.94 2.06-2.06.94z\"/><path d=\"M17.41 7.96l-1.37-1.37c-.4-.4-.92-.59-1.43-.59-.52 0-1.04.2-1.43.59L10.3 9.45l-7.72 7.72c-.78.78-.78 2.05 0 2.83L4 21.41c.39.39.9.59 1.41.59.51 0 1.02-.2 1.41-.59l7.78-7.78 2.81-2.81c.8-.78.8-2.07 0-2.86zM5.41 20L4 18.59l7.72-7.72 1.47 1.35L5.41 20z\"/>\n",
              "  </svg>\n",
              "      </button>\n",
              "      \n",
              "  <style>\n",
              "    .colab-df-container {\n",
              "      display:flex;\n",
              "      flex-wrap:wrap;\n",
              "      gap: 12px;\n",
              "    }\n",
              "\n",
              "    .colab-df-convert {\n",
              "      background-color: #E8F0FE;\n",
              "      border: none;\n",
              "      border-radius: 50%;\n",
              "      cursor: pointer;\n",
              "      display: none;\n",
              "      fill: #1967D2;\n",
              "      height: 32px;\n",
              "      padding: 0 0 0 0;\n",
              "      width: 32px;\n",
              "    }\n",
              "\n",
              "    .colab-df-convert:hover {\n",
              "      background-color: #E2EBFA;\n",
              "      box-shadow: 0px 1px 2px rgba(60, 64, 67, 0.3), 0px 1px 3px 1px rgba(60, 64, 67, 0.15);\n",
              "      fill: #174EA6;\n",
              "    }\n",
              "\n",
              "    [theme=dark] .colab-df-convert {\n",
              "      background-color: #3B4455;\n",
              "      fill: #D2E3FC;\n",
              "    }\n",
              "\n",
              "    [theme=dark] .colab-df-convert:hover {\n",
              "      background-color: #434B5C;\n",
              "      box-shadow: 0px 1px 3px 1px rgba(0, 0, 0, 0.15);\n",
              "      filter: drop-shadow(0px 1px 2px rgba(0, 0, 0, 0.3));\n",
              "      fill: #FFFFFF;\n",
              "    }\n",
              "  </style>\n",
              "\n",
              "      <script>\n",
              "        const buttonEl =\n",
              "          document.querySelector('#df-74323b41-9e5e-4218-b924-145b2e3c6b5c button.colab-df-convert');\n",
              "        buttonEl.style.display =\n",
              "          google.colab.kernel.accessAllowed ? 'block' : 'none';\n",
              "\n",
              "        async function convertToInteractive(key) {\n",
              "          const element = document.querySelector('#df-74323b41-9e5e-4218-b924-145b2e3c6b5c');\n",
              "          const dataTable =\n",
              "            await google.colab.kernel.invokeFunction('convertToInteractive',\n",
              "                                                     [key], {});\n",
              "          if (!dataTable) return;\n",
              "\n",
              "          const docLinkHtml = 'Like what you see? Visit the ' +\n",
              "            '<a target=\"_blank\" href=https://colab.research.google.com/notebooks/data_table.ipynb>data table notebook</a>'\n",
              "            + ' to learn more about interactive tables.';\n",
              "          element.innerHTML = '';\n",
              "          dataTable['output_type'] = 'display_data';\n",
              "          await google.colab.output.renderOutput(dataTable, element);\n",
              "          const docLink = document.createElement('div');\n",
              "          docLink.innerHTML = docLinkHtml;\n",
              "          element.appendChild(docLink);\n",
              "        }\n",
              "      </script>\n",
              "    </div>\n",
              "  </div>\n",
              "  "
            ]
          },
          "metadata": {},
          "execution_count": 24
        }
      ]
    },
    {
      "cell_type": "code",
      "source": [
        "model_reg = CatBoostRegressor(iterations = 10)\n",
        "model_reg.fit(X_preprocessed,Y1_train, cat_features=['ticket_type_nm','entrance_id','station_id','line_id'])\n",
        "Y1_pred = model_reg.predict(X_preprocessed)"
      ],
      "metadata": {
        "colab": {
          "base_uri": "https://localhost:8080/"
        },
        "id": "HogLwb_043zt",
        "outputId": "c59bcf5d-3ca5-403d-d15e-4e3a79e076db"
      },
      "execution_count": 25,
      "outputs": [
        {
          "output_type": "stream",
          "name": "stdout",
          "text": [
            "Learning rate set to 0.5\n",
            "0:\tlearn: 186.8410220\ttotal: 295ms\tremaining: 2.65s\n",
            "1:\tlearn: 169.0537326\ttotal: 582ms\tremaining: 2.33s\n",
            "2:\tlearn: 163.4953244\ttotal: 824ms\tremaining: 1.92s\n",
            "3:\tlearn: 161.6055484\ttotal: 1.11s\tremaining: 1.67s\n",
            "4:\tlearn: 160.7974588\ttotal: 1.36s\tremaining: 1.36s\n",
            "5:\tlearn: 160.4639809\ttotal: 1.6s\tremaining: 1.06s\n",
            "6:\tlearn: 160.2609399\ttotal: 1.85s\tremaining: 792ms\n",
            "7:\tlearn: 160.0723757\ttotal: 2.12s\tremaining: 529ms\n",
            "8:\tlearn: 159.8120883\ttotal: 2.36s\tremaining: 262ms\n",
            "9:\tlearn: 159.7092168\ttotal: 2.58s\tremaining: 0us\n"
          ]
        }
      ]
    },
    {
      "cell_type": "code",
      "source": [
        "# Теперь классификация\n",
        "X_preprocessed_cut = X_preprocessed[:500]\n",
        "Y2_train = Y2_train[:500]\n",
        "print(X_preprocessed_cut.size, Y2_train.size)\n"
      ],
      "metadata": {
        "colab": {
          "base_uri": "https://localhost:8080/"
        },
        "id": "7tH4DqTl6Cr1",
        "outputId": "554af5f6-4fe5-420b-bf56-3b04b73271a9"
      },
      "execution_count": 27,
      "outputs": [
        {
          "output_type": "stream",
          "name": "stdout",
          "text": [
            "4500 500\n"
          ]
        }
      ]
    },
    {
      "cell_type": "code",
      "source": [
        "print(X_preprocessed)"
      ],
      "metadata": {
        "colab": {
          "base_uri": "https://localhost:8080/"
        },
        "id": "48Vdg9jU-spH",
        "outputId": "1dafaa60-dbc5-4abf-fbb1-75ee539d7155"
      },
      "execution_count": 19,
      "outputs": [
        {
          "output_type": "stream",
          "name": "stdout",
          "text": [
            "      id  ticket_id  ticket_type_nm  entrance_id  station_id  line_id  day  \\\n",
            "0      1      84909              40         2402       11007       11   12   \n",
            "1      2      24211              53          110        2006        2   12   \n",
            "2      3     276072              26          110        2006        2   12   \n",
            "3      4       1788               3          110        2006        2   12   \n",
            "4      5     196752              38          110        2006        2   12   \n",
            "..   ...        ...             ...          ...         ...      ...  ...   \n",
            "495  496      28993               6         2086       10001       10   12   \n",
            "496  497       2148               5          213        5003        5   12   \n",
            "497  498     281075               5          153        3022        3   12   \n",
            "498  499      17903              19          188        3006        3   12   \n",
            "499  500      96578              19          386        9010        9   12   \n",
            "\n",
            "     hour  minute  \n",
            "0       5       0  \n",
            "1       5       0  \n",
            "2       5       0  \n",
            "3       5       1  \n",
            "4       5       2  \n",
            "..    ...     ...  \n",
            "495     5      30  \n",
            "496     5      30  \n",
            "497     5      30  \n",
            "498     5      30  \n",
            "499     5      30  \n",
            "\n",
            "[500 rows x 9 columns]\n"
          ]
        }
      ]
    },
    {
      "cell_type": "code",
      "source": [
        "model_class = CatBoostClassifier(iterations = 10, depth = 5)\n",
        "model_class.fit(X_preprocessed_cut,Y2_train, cat_features=['ticket_type_nm','entrance_id','station_id','line_id'])\n",
        "Y2_pred = model_class.predict(X_preprocessed_cut)"
      ],
      "metadata": {
        "colab": {
          "base_uri": "https://localhost:8080/"
        },
        "id": "gpFCHkNJ9g4x",
        "outputId": "8c498cd9-71fc-435e-e6a1-faad6cb685d4"
      },
      "execution_count": 28,
      "outputs": [
        {
          "output_type": "stream",
          "name": "stdout",
          "text": [
            "Learning rate set to 0.5\n",
            "0:\tlearn: 5.0662030\ttotal: 2.62s\tremaining: 23.5s\n",
            "1:\tlearn: 4.9204615\ttotal: 5.22s\tremaining: 20.9s\n",
            "2:\tlearn: 4.7861461\ttotal: 7.79s\tremaining: 18.2s\n",
            "3:\tlearn: 4.6590857\ttotal: 10.4s\tremaining: 15.6s\n",
            "4:\tlearn: 4.5662683\ttotal: 13s\tremaining: 13s\n",
            "5:\tlearn: 4.4750667\ttotal: 15.6s\tremaining: 10.4s\n",
            "6:\tlearn: 4.3632652\ttotal: 18.1s\tremaining: 7.78s\n",
            "7:\tlearn: 4.2485552\ttotal: 20.8s\tremaining: 5.19s\n",
            "8:\tlearn: 4.1488281\ttotal: 23.5s\tremaining: 2.61s\n",
            "9:\tlearn: 4.0496357\ttotal: 26s\tremaining: 0us\n"
          ]
        }
      ]
    },
    {
      "cell_type": "code",
      "source": [
        "from sklearn.metrics import r2_score, recall_score\n",
        "def result(Y1_train, Y1_pred, Y2_train, Y2_pred):\n",
        "  r2 = r2_score(Y1_train, Y1_pred)\n",
        "  rec = recall_score(Y2_train, Y2_pred, average='micro')\n",
        "  res = 0.5*r2 + 0.5*rec\n",
        "  return res"
      ],
      "metadata": {
        "id": "nioiGwgd-9Vk"
      },
      "execution_count": 31,
      "outputs": []
    },
    {
      "cell_type": "code",
      "source": [
        "res = result(Y1_train, Y1_pred, Y2_train, Y2_pred)\n",
        "print(res)"
      ],
      "metadata": {
        "colab": {
          "base_uri": "https://localhost:8080/"
        },
        "id": "IlrnKEyW_pxW",
        "outputId": "dd4cc54b-4dff-4db7-b236-aafea4490e6b"
      },
      "execution_count": 33,
      "outputs": [
        {
          "output_type": "stream",
          "name": "stdout",
          "text": [
            "0.30084301580547773\n"
          ]
        }
      ]
    }
  ]
}
